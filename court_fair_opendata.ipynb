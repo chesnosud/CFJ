{
 "cells": [
  {
   "cell_type": "markdown",
   "metadata": {},
   "source": [
    "# Вихідні дані `Court fair`"
   ]
  },
  {
   "cell_type": "markdown",
   "metadata": {},
   "source": [
    "![title](https://i.ibb.co/KLPm3x1/Screenshot-1.png)"
   ]
  },
  {
   "cell_type": "markdown",
   "metadata": {},
   "source": [
    "---"
   ]
  },
  {
   "cell_type": "code",
   "execution_count": 1,
   "metadata": {},
   "outputs": [],
   "source": [
    "import os\n",
    "import requests\n",
    "import numpy as np\n",
    "import pandas as pd\n",
    "from time import sleep"
   ]
  },
  {
   "cell_type": "code",
   "execution_count": 2,
   "metadata": {},
   "outputs": [],
   "source": [
    "def sample_data(\n",
    "    chunksize=10**4, size=5, path=\"./raw_files/documents.csv\" # https://court.gov.ua/opendata/\n",
    ") -> pd.DataFrame:\n",
    "    \"\"\"\n",
    "    Завантажує .csv файл шматочками й повертає лише певну його частину. \n",
    "    (Тому що не можу завантажити увесь файл одразу, для ознайомл. - ок)\n",
    "    \n",
    "    ---\n",
    "    chunksize: по скільки рядків розбивати файл\n",
    "         size: скільки частин файлу завантажити\n",
    "    \"\"\"\n",
    "\n",
    "    samples = []\n",
    "    for chunk in pd.read_csv(path, sep=\"\\t\", chunksize=chunksize):\n",
    "        samples.append(chunk)\n",
    "\n",
    "    high = len(samples)\n",
    "    N = list(np.random.randint(low=0, high=high, size=size))\n",
    "    print(\n",
    "        f\"actual size: ~{high * chunksize}, sample size: {size * chunksize}\"\n",
    "    )\n",
    "    return pd.concat([samples[n] for n in N])\n",
    "\n",
    "\n",
    "def download_files(dataframe, directory=\"./texts\"):\n",
    "    \"\"\"\n",
    "    Створює папку й завантажує в неї файли за посиланнями з dataframe\n",
    "    \"\"\"\n",
    "    os.makedirs(directory, exist_ok=True)\n",
    "    \n",
    "    for url, name in zip(dataframe[\"doc_url\"], dataframe[\"doc_id\"]):\n",
    "        r = requests.get(url, sleep(1))\n",
    "        with open(f\"{directory}/case_{name}.rtf\", \"wb\") as f:\n",
    "            f.write(r.content)"
   ]
  },
  {
   "cell_type": "code",
   "execution_count": 3,
   "metadata": {},
   "outputs": [
    {
     "name": "stdout",
     "output_type": "stream",
     "text": [
      "actual size: ~5070000, sample size: 20000\n"
     ]
    }
   ],
   "source": [
    "dataframes = sample_data(size=2)"
   ]
  },
  {
   "cell_type": "code",
   "execution_count": 6,
   "metadata": {},
   "outputs": [
    {
     "data": {
      "text/html": [
       "<div>\n",
       "<style scoped>\n",
       "    .dataframe tbody tr th:only-of-type {\n",
       "        vertical-align: middle;\n",
       "    }\n",
       "\n",
       "    .dataframe tbody tr th {\n",
       "        vertical-align: top;\n",
       "    }\n",
       "\n",
       "    .dataframe thead th {\n",
       "        text-align: right;\n",
       "    }\n",
       "</style>\n",
       "<table border=\"1\" class=\"dataframe\">\n",
       "  <thead>\n",
       "    <tr style=\"text-align: right;\">\n",
       "      <th></th>\n",
       "      <th>doc_id</th>\n",
       "      <th>court_code</th>\n",
       "      <th>judgment_code</th>\n",
       "      <th>justice_kind</th>\n",
       "      <th>category_code</th>\n",
       "      <th>cause_num</th>\n",
       "      <th>adjudication_date</th>\n",
       "      <th>receipt_date</th>\n",
       "      <th>judge</th>\n",
       "      <th>doc_url</th>\n",
       "      <th>status</th>\n",
       "      <th>date_publ</th>\n",
       "    </tr>\n",
       "  </thead>\n",
       "  <tbody>\n",
       "    <tr>\n",
       "      <td>1581349</td>\n",
       "      <td>80514589</td>\n",
       "      <td>2027</td>\n",
       "      <td>2</td>\n",
       "      <td>5</td>\n",
       "      <td>41080.0</td>\n",
       "      <td>643/3050/19</td>\n",
       "      <td>2019-03-18 00:00:00+02</td>\n",
       "      <td>2019-03-19 00:00:00+02</td>\n",
       "      <td>Довготько Т. М.</td>\n",
       "      <td>http://od.reyestr.court.gov.ua/files/40/fc4b8a...</td>\n",
       "      <td>1</td>\n",
       "      <td>2019-03-20 00:00:00+02</td>\n",
       "    </tr>\n",
       "    <tr>\n",
       "      <td>1581029</td>\n",
       "      <td>80507479</td>\n",
       "      <td>4855</td>\n",
       "      <td>5</td>\n",
       "      <td>4</td>\n",
       "      <td>5589.0</td>\n",
       "      <td>810/1595/16</td>\n",
       "      <td>2019-03-18 00:00:00+02</td>\n",
       "      <td>2019-03-19 00:00:00+02</td>\n",
       "      <td>Ключкович Василь Юрійович</td>\n",
       "      <td>http://od.reyestr.court.gov.ua/files/40/1119c2...</td>\n",
       "      <td>1</td>\n",
       "      <td>2019-03-20 00:00:00+02</td>\n",
       "    </tr>\n",
       "    <tr>\n",
       "      <td>3781744</td>\n",
       "      <td>82725897</td>\n",
       "      <td>520</td>\n",
       "      <td>5</td>\n",
       "      <td>1</td>\n",
       "      <td>40376.0</td>\n",
       "      <td>264/1159/19</td>\n",
       "      <td>2019-07-01 00:00:00+03</td>\n",
       "      <td>2019-07-02 00:00:00+03</td>\n",
       "      <td>Іванченко А. М.</td>\n",
       "      <td>http://od.reyestr.court.gov.ua/files/41/bd95e4...</td>\n",
       "      <td>1</td>\n",
       "      <td>2019-07-03 00:00:00+03</td>\n",
       "    </tr>\n",
       "    <tr>\n",
       "      <td>1588254</td>\n",
       "      <td>80517483</td>\n",
       "      <td>2315</td>\n",
       "      <td>5</td>\n",
       "      <td>1</td>\n",
       "      <td>40376.0</td>\n",
       "      <td>755/13171/18</td>\n",
       "      <td>2019-03-15 00:00:00+02</td>\n",
       "      <td>2019-03-19 00:00:00+02</td>\n",
       "      <td>Пасацька Л. А.</td>\n",
       "      <td>http://od.reyestr.court.gov.ua/files/40/cfe908...</td>\n",
       "      <td>1</td>\n",
       "      <td>2019-03-20 00:00:00+02</td>\n",
       "    </tr>\n",
       "    <tr>\n",
       "      <td>3780579</td>\n",
       "      <td>82732430</td>\n",
       "      <td>2027</td>\n",
       "      <td>5</td>\n",
       "      <td>1</td>\n",
       "      <td>40376.0</td>\n",
       "      <td>643/6248/19</td>\n",
       "      <td>2019-07-01 00:00:00+03</td>\n",
       "      <td>2019-07-02 00:00:00+03</td>\n",
       "      <td>Афанасьєв В. О.</td>\n",
       "      <td>http://od.reyestr.court.gov.ua/files/41/fb52e2...</td>\n",
       "      <td>1</td>\n",
       "      <td>2019-07-03 00:00:00+03</td>\n",
       "    </tr>\n",
       "  </tbody>\n",
       "</table>\n",
       "</div>"
      ],
      "text/plain": [
       "           doc_id  court_code  judgment_code  justice_kind  category_code  \\\n",
       "1581349  80514589        2027              2             5        41080.0   \n",
       "1581029  80507479        4855              5             4         5589.0   \n",
       "3781744  82725897         520              5             1        40376.0   \n",
       "1588254  80517483        2315              5             1        40376.0   \n",
       "3780579  82732430        2027              5             1        40376.0   \n",
       "\n",
       "            cause_num       adjudication_date            receipt_date  \\\n",
       "1581349   643/3050/19  2019-03-18 00:00:00+02  2019-03-19 00:00:00+02   \n",
       "1581029   810/1595/16  2019-03-18 00:00:00+02  2019-03-19 00:00:00+02   \n",
       "3781744   264/1159/19  2019-07-01 00:00:00+03  2019-07-02 00:00:00+03   \n",
       "1588254  755/13171/18  2019-03-15 00:00:00+02  2019-03-19 00:00:00+02   \n",
       "3780579   643/6248/19  2019-07-01 00:00:00+03  2019-07-02 00:00:00+03   \n",
       "\n",
       "                             judge  \\\n",
       "1581349            Довготько Т. М.   \n",
       "1581029  Ключкович Василь Юрійович   \n",
       "3781744            Іванченко А. М.   \n",
       "1588254             Пасацька Л. А.   \n",
       "3780579            Афанасьєв В. О.   \n",
       "\n",
       "                                                   doc_url  status  \\\n",
       "1581349  http://od.reyestr.court.gov.ua/files/40/fc4b8a...       1   \n",
       "1581029  http://od.reyestr.court.gov.ua/files/40/1119c2...       1   \n",
       "3781744  http://od.reyestr.court.gov.ua/files/41/bd95e4...       1   \n",
       "1588254  http://od.reyestr.court.gov.ua/files/40/cfe908...       1   \n",
       "3780579  http://od.reyestr.court.gov.ua/files/41/fb52e2...       1   \n",
       "\n",
       "                      date_publ  \n",
       "1581349  2019-03-20 00:00:00+02  \n",
       "1581029  2019-03-20 00:00:00+02  \n",
       "3781744  2019-07-03 00:00:00+03  \n",
       "1588254  2019-03-20 00:00:00+02  \n",
       "3780579  2019-07-03 00:00:00+03  "
      ]
     },
     "execution_count": 6,
     "metadata": {},
     "output_type": "execute_result"
    }
   ],
   "source": [
    "test = dataframes.sample(5).copy()\n",
    "test"
   ]
  },
  {
   "cell_type": "code",
   "execution_count": 7,
   "metadata": {},
   "outputs": [],
   "source": [
    "download_files(test)"
   ]
  },
  {
   "cell_type": "markdown",
   "metadata": {},
   "source": [
    "### TO DO:\n",
    "1. перетворити `.rtf` в `.txt`\n",
    "2. відсортувати рішення за ключовими словами"
   ]
  }
 ],
 "metadata": {
  "kernelspec": {
   "display_name": "Python 3",
   "language": "python",
   "name": "python3"
  },
  "language_info": {
   "codemirror_mode": {
    "name": "ipython",
    "version": 3
   },
   "file_extension": ".py",
   "mimetype": "text/x-python",
   "name": "python",
   "nbconvert_exporter": "python",
   "pygments_lexer": "ipython3",
   "version": "3.7.4"
  }
 },
 "nbformat": 4,
 "nbformat_minor": 4
}
